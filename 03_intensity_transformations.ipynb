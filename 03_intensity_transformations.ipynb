{
  "nbformat": 4,
  "nbformat_minor": 0,
  "metadata": {
    "colab": {
      "name": "03_intensity_transformations.ipynb",
      "provenance": [],
      "toc_visible": true
    },
    "kernelspec": {
      "name": "python3",
      "display_name": "Python 3"
    }
  },
  "cells": [
    {
      "cell_type": "markdown",
      "metadata": {
        "id": "x3rU6vYd-g4B"
      },
      "source": [
        "# **Intensity transformations**\r\n",
        "Intensity transformation (or point operators) are image processing operators aimed at **enhancing the quality of an input image**."
      ]
    },
    {
      "cell_type": "markdown",
      "metadata": {
        "id": "foHlf5q4_Dg8"
      },
      "source": [
        "## The gray-level histogram\r\n",
        "These operators rely on the computation of the gray-level histogram, a function associating to each gray-level the number of pixels in the image, that takes that level.\r\n",
        "It's the first order statistics of the image and its computation it's straighforward:\r\n",
        "1. Define and initialize at $0$ a vector $H$, having as many elements as the number of gray-level;\r\n",
        "1. Scan the image $I$ to increment the element of the vector corresponding to the gray-level of the current pixel $p$:\r\n",
        "$$p = \\begin{bmatrix} u \\\\ v \\end{bmatrix}, \\quad \\forall p \\in I \\colon \\quad H \\bigl[ I[p] \\bigr] + +$$\r\n",
        "\r\n",
        "The histogram provides useful information on the image content, but it doesn't encode any information related to the spatial distribution of intensities.\r\n",
        "\r\n",
        "<center> <img src=https://i.ibb.co/9vKwvdj/photo-2021-01-21-09-15-51.jpg width=\"800px\" /> </center>\r\n",
        "\r\n",
        "Normalization of histogram entries, by the total number of pixels, yields relative frequencies of occurence of gray-levels, which can be interpreted as their probabilities (a normalized histogram can be thought of as the *pmf* of the discrete random variable, given by the gray-level of a randomly picked pixel in the image)."
      ]
    },
    {
      "cell_type": "markdown",
      "metadata": {
        "id": "iZsOuvHYCoEu"
      },
      "source": [
        "## Intensity transformation\r\n",
        "An image processing operator where the intensity of a pixel of the output image is computed based on the intensity of the corresponding pixel of the input image only.\r\n",
        "\r\n",
        "<center> <img src=https://i.ibb.co/dkZCktG/photo-2021-01-21-09-25-57.jpg width=\"400px\" /> </center>\r\n",
        "\r\n",
        "These operator can be implement as a look-up-table (LUT), especially in case of hardware implementation:\r\n",
        "$$p = \\begin{bmatrix} u \\\\ v \\end{bmatrix}, \\quad \\forall p \\in I \\colon \\quad O[p] = \\text{LUT} \\bigl[ I[p] \\bigr]$$\r\n",
        "\r\n",
        "<center> <img src=https://i.ibb.co/mSrvd3v/photo-2021-01-21-09-30-35.jpg width=\"600px\" /> </center>\r\n",
        "\r\n",
        "*Example 1*\r\n",
        "\r\n",
        "Many industrial setting use the **thresholding operator** to get images as simple as possible.\r\n",
        "\r\n",
        "<center> <img src=https://i.ibb.co/CHXGW0z/photo-2021-01-21-09-35-35.jpg width=\"400px\" /> </center>\r\n",
        "\r\n",
        "*Example 2*\r\n",
        "\r\n",
        "<center> <img src=https://i.ibb.co/FYgQmRB/photo-2021-01-21-09-39-10.jpg width=\"800px\" /> </center>"
      ]
    },
    {
      "cell_type": "markdown",
      "metadata": {
        "id": "u-9sJ0K3Ghko"
      },
      "source": [
        "### Linear constrast streching\r\n",
        "An image featuring a small gray-level range has likely poor contrast.\r\n",
        "Contrast can be enhanced by linearly stretching the intensities to span a larger interval (full available range):\r\n",
        "\r\n",
        "<center> <img src=https://i.ibb.co/zJBptcn/photo-2021-01-21-09-43-35.jpg width=\"600px\" /> </center>\r\n",
        "\r\n",
        "Since $s_\\min = 0$ and $s_\\max = 255$, we'll have: \r\n",
        "$$s = \\frac{255}{r_\\max - r_\\min} (r - r_\\min)$$\r\n",
        "\r\n",
        "Since most pixels lie in a small interval, the dark and bright outliers lies in the extremes of the interval: a complete mapping (identity) would be ineffective.\r\n",
        "\r\n",
        "In this case only a smaller part of the interval can be spread across the range ($s_\\min$ and $s_\\max$ can be taken as some percentiles of the distribuition).\r\n",
        "\r\n",
        "\r\n",
        "<center> <img src=https://i.ibb.co/RTF8SWw/photo-2021-01-21-09-51-22.jpg width=\"700px\" /> </center>\r\n",
        "\r\n",
        "*Example*\r\n",
        "\r\n",
        "<center> <img src=https://i.ibb.co/w6pS58B/photo-2021-01-21-09-53-50.jpg width=\"800px\" /> </center>"
      ]
    },
    {
      "cell_type": "markdown",
      "metadata": {
        "id": "ZlOJFwWaKAsE"
      },
      "source": [
        "### Exponential operator\r\n",
        "Sometimes is desiderable to selectively enhance the contrast in either dark (under-exposed) or bright (over-exposed) areas of the image, but linear stretching expand the constrast uniformly. \r\n",
        "In this case a non-linear mapping, such as exponential operator, can be deployed.\r\n",
        "\r\n",
        "<center> <img src=https://i.ibb.co/HzDdWkj/photo-2021-01-21-09-58-19.jpg width=\"800px\" /> </center>\r\n",
        "\r\n",
        "Taking:\r\n",
        "* $r < 1$ the intensity dynamics of dark areas is stretched, and the one of bright areas is shrinked: improve under-exposed images;\r\n",
        "* $r > 1$ opposite behaviour: improve over-exposed images;\r\n",
        "\r\n",
        "Since gray-levels of an image are actually within $[0,255]$:\r\n",
        "\r\n",
        "$$y \\to \\frac{y}{255} \\quad x \\to \\frac{x}{255}$$\r\n",
        "\r\n",
        "$$\\frac{y}{255} = \\Bigl(\\frac{x}{255}\\Bigr)^r \\quad \\to \\quad y = 255^{1-r} x^r$$\r\n",
        "\r\n",
        "This operator is also known as **gamma correction**, used ti compensate the exponential voltage-to-intensity mapping of old CRT monitors."
      ]
    },
    {
      "cell_type": "markdown",
      "metadata": {
        "id": "RqhLpYFENBbd"
      },
      "source": [
        "### Histogram equalization\r\n",
        "Spreads (automatic) uniformly pixel intensities across the whole available range, that usually improves the contrast.\r\n",
        "This method maps the gray-level of the input image so that the histogram of the output image turns out (ideally) flat (using the whole range).\r\n",
        "\r\n",
        "To find the mapping:\r\n",
        "1. Consider a continuous random variable $x$ and a strictly monotonically increasing (and so invertible) function $T$, such that:\r\n",
        "$$x \\in [0,1] \\to y = T(x) \\in [0,1]$$\r\n",
        "Note that $x$ is limited and so it's $y$.\r\n",
        "1. Denote as $p_x(x)$ and $p_y(y)$ the probability density function (pdf) of $x$ and $y$.\r\n",
        "Since $T$ is monotonically increasing:\r\n",
        "$$x < \\tilde{x} < x + dx \\quad \\to \\quad y < \\tilde{y} < y + dy$$\r\n",
        "with:\r\n",
        "$$y = T(x) \\quad y + dy = T(x + dx)$$\r\n",
        "<center> <img src=https://i.ibb.co/2jMYgdp/photo-2021-01-21-10-36-36.jpg width=\"400px\" /> </center>\r\n",
        "Therefore, the probability of $x$ and $y$ to belong to their infinitesimal interval is exactly the same, so we can derive the *pdf* of $y$ as a function of $T$ and the *pdf* of $x$:\r\n",
        "$$p_y(y) dy = p_x(x) dx \\quad \\to \\quad p_y(y) = p_x(x) \\frac{dx}{dy}$$\r\n",
        "remembering that the last term is the derivative of the inverse function, since $x = T^{-1}(y)$.\r\n",
        "Note that basically it's an integration over intervals:\r\n",
        "<center> <img src=https://i.ibb.co/pwK3RPF/photo-2021-01-21-10-47-34.jpg width=\"600px\" /> </center>\r\n",
        "1. Let's now consider a specific mapping function $T$: the cumulative distribution function (*cdf*) of $x$, that guarantees the mapping into $[0,1]$ and the increasing monotocity:\r\n",
        "$$y = T(x) = \\int_0^x p_x (\\xi) d \\xi$$\r\n",
        "Assuming also the strict monotonicity we can always invert the fuction:\r\n",
        "$$p_y(y) = p_x(x) \\frac{dx}{dy} = p_y(y) = p_x(x) \\frac{1}{\\frac{dy}{dx}} = \\frac{p_x(x)}{p_x(x)} = 1$$\r\n",
        "and so $y$ will be uniformly distribuited in $[0,1]$ whatever *pdf*.\r\n",
        "\r\n",
        "**What have we found out?** Mapping any continuous random variable through its *cdf* deliver to a uniformly distribuited random variable.\r\n",
        "\r\n",
        "4. We need to discretize the previous result, by considering the cumulative probability mass function of the discrete random variable associated with the gray-level of a pixel (whose *pmf* is given by the normalized histogram).\r\n",
        "Given:\r\n",
        "$$N = \\sum_{i = 0}^{L - 1} h(i)$$\r\n",
        "$$p(i) = \\frac{h(i)}{N}$$\r\n",
        "we'll have:\r\n",
        "$$j = T(i) = \\sum_{k = 0}^{i} p(k)$$\r\n",
        "that is the discrete integration. Substituting the second relation we'll have:\r\n",
        "$$j = T(i) = \\sum_{k = 0}^{i} p(k) = \\frac{1}{N} \\sum_{k = 0}^{i} h(k)$$\r\n",
        "to map $j$ into the range $[0,L-1]$:\r\n",
        "$$j = \\frac{L - 1}{N} \\sum_{k = 0}^{i} h(k)$$\r\n",
        "Note that the above function doens't perfectly equalize due to the several approximations involved, but nevertheless it's effective in spreading the intensities over a wider range so as to improve image contrast.\r\n",
        "\r\n",
        "*Example*\r\n",
        "<center> <img src=https://i.ibb.co/NWMJVp0/photo-2021-01-21-11-07-46.jpg width=\"800px\" /> </center>"
      ]
    }
  ]
}