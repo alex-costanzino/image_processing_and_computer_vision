{
  "nbformat": 4,
  "nbformat_minor": 0,
  "metadata": {
    "colab": {
      "name": "07_blob_analysis.ipynb",
      "provenance": [],
      "collapsed_sections": []
    },
    "kernelspec": {
      "name": "python3",
      "display_name": "Python 3"
    }
  },
  "cells": [
    {
      "cell_type": "markdown",
      "metadata": {
        "id": "4VQzuDnYVrKk"
      },
      "source": [
        "# **Blob analysis**\r\n",
        "Once foreground/background segmentation has been accomplished, usually next task is the analysis of the individual foreground objects to get some high-level knowledge on the observed scene.\r\n",
        "\r\n",
        "Such knowledge may pertain detecting what types of objects are contained in the scene, for example: measuring their position and orientation, assesing if they show or not manifacturing faults, etc...\r\n",
        "\r\n",
        "The individial objects, referred as **blobs** (Binary Large Objects), need to be isolated within the overall foreground region.\r\n",
        "This step is known as **connected components labelling**.\r\n",
        "\r\n",
        "Indvidual objects can be then processed to extract specific *features* (the properties of the blob) related to the required kind of high-level knowledge.\r\n",
        "These featurese may be computed from all the pixels belonging to the blob (*region features*) or from boundary pixels only (*contour features*).\r\n",
        "This process is known as **blob analysis**.\r\n",
        "\r\n",
        "*Shape-related* features need to exihibit **invariance to the transformations** that the image of the object may undergo during the analysis.\r\n",
        "Moreover, mostly shape-related features need to fulfil **invariance to similarity transformation** (translation, rotation and scale change).\r\n",
        "In particular, they **do not** have to change if the object appears at different position, rotated or shows a different size in the image.\r\n",
        "\r\n",
        "Object detection based on blob features can be accomplished either by handcrafted rules or based on machine learning techniques (classification to map a feature vector into a set of classes).\r\n",
        "\r\n",
        "*Example*: quality process and OCR (a very widespread paradigm):\r\n",
        "1. Grab image;\r\n",
        "1. ROI (relative ROI, anchor to establish a relative position that has a fix pattern);\r\n",
        "1. Binarization;\r\n",
        "1. Labelling (usuallly with different gray-scales or pseudo-colors);\r\n",
        "1. Blob analysis."
      ]
    },
    {
      "cell_type": "markdown",
      "metadata": {
        "id": "y8fqg-VkhHnk"
      },
      "source": [
        "## Distance and connectivity\r\n",
        "To discuss labelling algorithm, the notion of **connectivity**, related on the **distance** on the discrete plane $E^2$, is required.\r\n",
        "\r\n",
        "Given $p_1(i_1,j_1),p_2(i_2,j_2),p_3(i_3,j_3) \\in E^2$, $D$ is a distance if:\r\n",
        "1. It's non negative: $D(p_1,p_2) \\geq 0, \\quad D(p_1,p_2) = 0 \\iff p_1=p_2$;\r\n",
        "1. It's symmetric: $D(p_1,p_2) = D(p_2,p_1)$;\r\n",
        "1. It holds the triangular inequality (better go straight): $D(p_1,p_3) \\leq D(p_1,p_2) + D(p_2,p_3)$.\r\n",
        "\r\n",
        "The two main distances defined on the discrete plane $E^2$ are:\r\n",
        "1. **City-block distance** (or Manhattan, or taxi-cab):\r\n",
        "$$D_4 = |i_1 - i_2|+|j_1 - j_2|$$\r\n",
        "According to the definition, a pixel can be reached from another only with horizontal or vertical shifts.\r\n",
        "The set of point having $D_4 \\leq r$ from a given one is a rhombus with diagonal of lenght $2r + 1$:\r\n",
        "<center> <img src=https://i.ibb.co/H4TMz84/photo-2021-01-23-10-24-14.jpg width=\"500px\" /> </center>\r\n",
        "Defined as neighbours of $p$ the set of points having $D=1$ from $p$, using the $D_4$ we'll have the so called 4-neighbourhood of $p$, denoted as $n_4(p)$.\r\n",
        "\r\n",
        "1. **Chessboard distance**:\r\n",
        "$$D_8(p_1,p_2) = \\max(|i_1 - j_1|,|j_1 - j_2|)$$\r\n",
        "According to the definition, horizontal, vertical and even diagonal shifts have the same weight.\r\n",
        "The set of point having $D_8 \\leq r$ from a given one is a square with side of lenght $2r + 1$:\r\n",
        "<center> <img src=https://i.ibb.co/cX7Dp9M/photo-2021-01-23-10-24-14.jpg width=\"500px\" /> </center>\r\n",
        "Defined as neighbours of $p$ the set of points having $D=1$ from $p$, using the $D_8$ we'll have the so called 8-neighbourhood of $p$, denoted as $n_8(p)$."
      ]
    },
    {
      "cell_type": "markdown",
      "metadata": {
        "id": "XtDOd5c2nSEl"
      },
      "source": [
        "## Connected components of a binary image\r\n",
        "A path of lenght $n$ from pixel $p$ to pixel $q$ is a *sequence of pixels* (so there's an order) $p = p_1, p_2, \\dots , p_n = q$, such as $p_i$ and $p_{i+1}$ (consecutive pixels) are neighbours according to the chosen distance (both discrete distances have the same lenght as the smallest path from $p$ to $q$).\r\n",
        "\r\n",
        "A set of pixels $R$ is said to be a **connected region**, if for any two pixels $p,q$ in $R$, exists a path contained in $R$ between $p$ and $q$.\r\n",
        "Depending on the chosen distance, the region is said to be $4$-connected or $8$-connected.\r\n",
        "\r\n",
        "A set of pixels is said to be a *connected foreground* (or background) *region* if it's a connected region and contains foreground (or background) pixels only.\r\n",
        "\r\n",
        "A **connected component** of a binary image is a **maximal connected foreground region**.\r\n",
        "\r\n",
        "Computation with pixels belonging to different connected components are given different labels, while background pixels are unaffected:\r\n",
        "<center> <img src=https://i.ibb.co/9n2F9r8/photo-2021-01-23-10-50-51.jpg width=\"700px\" /> </center>"
      ]
    },
    {
      "cell_type": "markdown",
      "metadata": {
        "id": "R3r8mR1BqKLn"
      },
      "source": [
        "## The classical 2-scan algorithm\r\n",
        "There's exist a tons of labelling algorithm, with different speed and efficiency. This in particular is a sequential algorithm.\r\n",
        "\r\n",
        "* By the **first scan** foreground pixels take temporary labels, based on those given by already visited neighbours, which depends on the chosen distance and the scan order.\r\n",
        "\r\n",
        "After the first scan, different blobs have certainly been given different labels. \r\n",
        "Depending on the shape, this could happens for connected parts of the same blob too. \r\n",
        "This is why a second scan is required.\r\n",
        "\r\n",
        "* The **second scan** allows an unique final label to be assigned to those parts (that belong to the same blob), that had been given different temporary labels by the first scan.\r\n",
        "\r\n",
        "Equivalent temporary labels need to be found between the two scans, so as to assign a unique final label to each of the equivalence classes among temporary labels.\r\n",
        "\r\n",
        "* **First scan**\r\n",
        "<center> <img src=https://i.ibb.co/RN4mk2Z/photo-2021-01-23-11-06-48.jpg width=\"700px\" /> </center>\r\n",
        "\r\n",
        "1. If two neighbours pixels $p,q$ are both labelled as background (B), the the pixel $x$ it's the first pixel of a new object found, and so we assign to him a new label;\r\n",
        "2. If $p$ belongs to the backgrounf and $q$ has been labelled with $l_q$, then also $x$ will be labelled as $l_q$;\r\n",
        "3. Viceversa;\r\n",
        "4. If two neighbours pixels $p,q$ are both labelled as different from background, and differents among them too, then we can assign to $x$ either $l_q$ or $l_p$, but moreover we have to add the **class equivalence** of these two labels $\\{l_q,l_p\\}$. \r\n",
        "This is the case when a pixel connects two parts of the same blob (considered at the moment distinct objects).\r\n",
        "\r\n",
        "So, after the first scan, some labels are into class equivalences, and with the second scan we choose the right label.\r\n",
        "\r\n",
        "*Example*\r\n",
        "<center> <img src=https://i.ibb.co/qFh5rqv/photo-2021-01-23-11-22-24.jpg width=\"800px\" /> </center>\r\n"
      ]
    },
    {
      "cell_type": "markdown",
      "metadata": {
        "id": "86Oxb03Ay8TM"
      },
      "source": [
        "### Handling equivalences\r\n",
        "How do we store pairwise equivalences? During the first scan, the equivalences found betweem temporary label pairs are recorded into an $N \\times N$ matrix, with $N$ being the number of temporary labels.\r\n",
        "<center> <img src=https://i.ibb.co/7t4k1XX/photo-2021-01-23-11-28-20.jpg width=\"800px\" /> </center>\r\n",
        "\r\n",
        "Since it's an equivalence relation the matrix $B$ is symmetric and has unitary main diagonal.\r\n",
        "\r\n",
        "Ater the first scan, $B$ is processed to elicit the equivalence among temporary labels, implied due the transitive property:\r\n",
        "$$ \\{ i,j \\} \\to \\{ i,k \\} \\quad \\forall \\{ k,j \\} $$\r\n",
        "then:\r\n",
        "$$ B[i,k] = B[i,k] \\text{ OR } B[k,i] \\quad \\forall k = 1, \\dots , N$$\r\n",
        "\r\n",
        "Thus, through a scan by columns, all the equivalence implied by the transitive property can be recorded into $B$.\r\n",
        "\r\n",
        "Having found equivalence classes, it's necessary to assign an unique final label to each of them. \r\n",
        "For doing so, a simple table (vector) initialized by the identity function may be deployed. \r\n",
        "Then, the second scan boils down to an image look-up operation by the table.\r\n",
        "\r\n",
        "*Long-ass example*\r\n",
        "<center> <img src=https://i.ibb.co/W3pqsHt/photo-2021-01-23-11-41-53.jpg width=\"800px\" /> </center>"
      ]
    },
    {
      "cell_type": "markdown",
      "metadata": {
        "id": "wh7pRDoD3a2r"
      },
      "source": [
        "## Area and barycenter\r\n",
        "Once regions have been identified, features associated with each region are computed.\r\n",
        "The simplest ones are:\r\n",
        "* **Area**: amount of pixels belonging to that region $A = \\sum_{p \\in R} 1$;\r\n",
        "* **Barycenter**: center of mass of the region, seen as a set of particle of unitary mass. Let a generic pixel be:\r\n",
        "$$p = \\begin{bmatrix} i \\\\ j \\end{bmatrix}$$\r\n",
        "The barycenter will be:\r\n",
        "$$B = {\\begin{bmatrix} i_b \\\\ j_b \\end{bmatrix}} = {\\begin{bmatrix} \\frac{1}{A} \\sum_{p \\in R} i \\\\ \\frac{1}{A} \\sum_{p \\in R} j \\end{bmatrix}}$$\r\n",
        "\r\n",
        "*Note*: $R$ is a blob. The axis are:\r\n",
        "\r\n",
        "<img src=https://i.ibb.co/1Xv7n2v/photo-2021-01-23-14-21-01.jpg width=\"250px\" />"
      ]
    },
    {
      "cell_type": "markdown",
      "metadata": {
        "id": "HbE4XgKKaXvp"
      },
      "source": [
        "## Perimeter\r\n",
        "The perimeter is defined as the lenght of the contour of the region (blob), that depends on the pixels of the region that belong to the contour.\r\n",
        "\r\n",
        "A pixel $p$, that belong to a region, belong to the contour of that region if **exists at least one background pixel $q$ between its neighbours** (so it depends on the connectivity).\r\n",
        "\r\n",
        "It can be easily observed that:\r\n",
        "* $C_4$ is a 8-connected curve $\\exists q \\in n_4(p) \\to è \\in C_4$;\r\n",
        "* $C_8$ is a 4-connected curve $\\exists q \\in n_8(p) \\to è \\in C_8$;\r\n",
        "\r\n",
        "So, the perimeter can be estimated as:\r\n",
        "$$P_8 = \\sum_{p \\in C_4} 1$$\r\n",
        "$$P_4 = \\sum_{p \\in C_8} 1$$\r\n",
        "$P_8$ tends to understimate the true lenght, while $P_8$ tends to overstimate it:\r\n",
        "<center> <img src=https://i.ibb.co/DR9pZwN/photo-2021-01-23-14-30-26.jpg width=\"800px\" /> </center>\r\n",
        "\r\n",
        "It's then possible to average the two measurements: $\\tilde{P} = \\frac{P_4 + P_8}{2}$.\r\n",
        "\r\n",
        "*Note*: if the blob has holes we need to find both inner and outer perimeters.\r\n",
        "\r\n",
        "Considering the $C_4$ (8-connected contour), a more accurate approximation can be obtained taking into account the true lenght of diagonal pixels:\r\n",
        "$$\\tilde{P}_8 = \\sum_{p_k \\colon p_{k + 1} \\in n_4(p_k)} 1 + \\sum_{p_k \\colon p_{k + 1} \\in (n_8(p_k) - n_4(p_k))} \\sqrt{2} $$"
      ]
    },
    {
      "cell_type": "markdown",
      "metadata": {
        "id": "AbeM3nJIdm2F"
      },
      "source": [
        "## Compactness (or form factor)\r\n",
        "Represents how much perimeter is needed to contain the area:\r\n",
        "$$C = \\frac{P^2}{A}$$\r\n",
        "It's a dimensionless quantity and so it's scale-invariant."
      ]
    },
    {
      "cell_type": "markdown",
      "metadata": {
        "id": "RNapbeK3eLCl"
      },
      "source": [
        "## Haralick's circularity\r\n",
        "In discrete domain, compactness takes its smallest valued not for a circle but for an octagon (8-connectivity) o for a diamond (4-connectivity).\r\n",
        "For that reason Haralick proposed this variant feature.\r\n",
        "\r\n",
        "Let's consider:\r\n",
        "* The set of point of the contour: $C = \\{p_1 , p_2, \\dots, p_m\\}$;\r\n",
        "* The generic pixel: $p_k = \\begin{bmatrix} i_k \\\\ j_k \\end{bmatrix}$;\r\n",
        "* The baricenter: $B = \\begin{bmatrix} i_b \\\\ j_b \\end{bmatrix}$;\r\n",
        "* The distance from a contour point to the barycenter: $d_k = \\sqrt{(i_k - i_b)^2 +(j_k - j_b)^2}$;\r\n",
        "* The mean distance: $\\mu_r = \\frac{1}{m} \\sum_{k = 1}^m d_k$;\r\n",
        "* The standard deviation of distances: $\\sigma_r^2 = \\frac{1}{m} \\sum_{k = 1}^m (d_k - \\mu_r)^2$\r\n",
        "\r\n",
        "Then, the circularity will be:\r\n",
        "$$\\tilde{C} = \\frac{\\mu_R}{\\sigma_R}$$\r\n",
        "It's once again a scale-invariant features since it's dimensionless.\r\n",
        "The smaller the standard deviation (distance are more similar, like in a circle), the higher is the circularity."
      ]
    },
    {
      "cell_type": "markdown",
      "metadata": {
        "id": "Fd-zrV0PgbAQ"
      },
      "source": [
        "## Euler number\r\n",
        "It useful to count the number of the holes of a blob.\r\n",
        "It's defined as:\r\n",
        "$$E = C - H$$\r\n",
        "where $C$ is the number of connected component and $H$ is the number of holes.\r\n",
        "\r\n",
        "In practice $E$ is computed for each connected components, to determine the number of its holes ($E=0$ means that the blob has one hole).\r\n",
        "$E$ is a topological feature, and so it invariant to the *rubber-sheet transformation*.\r\n",
        "\r\n",
        "*Example*\r\n",
        "<center> <img src=https://i.ibb.co/Gn2TbMZ/photo-2021-01-23-14-52-53.jpg width=\"400px\" /> </center>\r\n",
        "\r\n",
        "\r\n"
      ]
    },
    {
      "cell_type": "markdown",
      "metadata": {
        "id": "Eoo7FE8jZo0L"
      },
      "source": [
        "## Moments\r\n",
        "The moment of order $(m,n)$ of a region is defined as:\r\n",
        "$$M_{m,n} = \\sum_{p \\in R} i^m j^n$$\r\n",
        "<center> <img src=https://i.ibb.co/kxCDPrs/photo-2021-01-24-09-00-30.jpg width=\"300px\" /> </center>\r\n",
        "\r\n",
        "*Note*: the area is the moment of order $(0,0)$: $M_{0,0} = \\sum_{p \\in R} i^0 j^0 = \\sum_{p \\in R} 1 = A$.\r\n",
        "\r\n",
        "The orther relevant moments are the second moments ($m + n = 2$):\r\n",
        "* Moment of inertia wrt the $i$-axis: $M_{0,2} = \\sum_{p \\in R} i^0 j^2 = \\sum_{p \\in R} j^2$;\r\n",
        "* Moment of inertia wrt the $j$-axis: $M_{2,0} = \\sum_{p \\in R} i^2 j^0 = \\sum_{p \\in R} i^2$;\r\n",
        "* Deviation moment of inertia: $M_{1,1} = \\sum_{p \\in R} i^1 j^1 = \\sum_{p \\in R} i j$\r\n",
        "\r\n",
        "Moments change according to the position of the region in the image.\r\n",
        "Invariance to translation can be achieved by calculating the moments relative to the barycentre, and they're the so called **central moments**:\r\n",
        "$$M^{'}_{m,n} = \\sum_{p \\in R} (i - i_b)^m (j - j_b)^n$$\r\n",
        "\r\n",
        "To achieve scale-invariance too, normalization is needed:\r\n",
        "$$V_{m,n} = \\frac{M^{'}_{m,n}}{A^\\alpha} \\quad \\quad \\quad \\alpha = \\frac{m + n}{2} + 1$$\r\n",
        "\r\n",
        "*Example*\r\n",
        "<center> <img src=https://i.ibb.co/Wzb4G8h/photo-2021-01-24-09-16-18.jpg width=\"700px\" /> </center>"
      ]
    },
    {
      "cell_type": "markdown",
      "metadata": {
        "id": "qLGoQFxdeklA"
      },
      "source": [
        "### Hu's moments\r\n",
        "Hu has shown that shape features invariant to rotation, translation and scaling can be define based on normalized central moments. \r\n",
        "He proved the invariance in continuous spacea, but even if computed on blobs the quantities turn out reasonably stable too."
      ]
    },
    {
      "cell_type": "markdown",
      "metadata": {
        "id": "at5_d6lLfH9m"
      },
      "source": [
        "## Orientation\r\n",
        "Many applications, such as roboto guidance, require to determine the orientation of the objects appearing in the image.\r\n",
        "If an object is somewhat elongated, its orientation can be defined according to the **direction of the axis of least inertia**, referred as **major axis**:\r\n",
        "$$\\text{major axis} = \\text{arg} \\min_l \\sum_{p \\in R} d_l^2 (p)$$\r\n",
        "\r\n",
        "The orientation is typically determined as the angle $\\theta$ between the major axis and the horizontal axis $j$ (it can be determined modulo $\\pi$).\r\n",
        "<center> <img src=https://i.ibb.co/gT2NLyk/photo-2021-01-24-09-28-25.jpg width=\"300px\" /> </center>\r\n"
      ]
    },
    {
      "cell_type": "markdown",
      "metadata": {
        "id": "8x6TduPQhGxE"
      },
      "source": [
        "### Distance from a point to a line\r\n",
        "Let's consider:\r\n",
        "* A line parametrized in the $j,i$ plane $l \\colon aj +bi + c = 0$;\r\n",
        "* A generic point $p = \\begin{bmatrix} i \\\\ j \\end{bmatrix}$.\r\n",
        "\r\n",
        "The squared distance from a point to a line can be expressed as:\r\n",
        "$$d_l^2(p) = \\frac{(ai + bj +c)^2}{a^2 + b^2}$$\r\n",
        "\r\n",
        "<center> <img src=https://i.ibb.co/5R6FmmL/photo-2021-01-24-09-35-54.jpg width=\"400px\" /> </center>\r\n",
        "\r\n",
        "Let be:\r\n",
        "$$\\tilde{p} = \\begin{bmatrix} \\tilde{i} \\\\ \\tilde{j} \\end{bmatrix} \\quad l = \\begin{bmatrix} a \\\\ -b \\end{bmatrix} \\quad n = \\begin{bmatrix} b \\\\ a \\end{bmatrix}$$\r\n",
        "Then we can calcukate the distance as:\r\n",
        "$$n \\cdot (p - \\tilde{p}) = |n| |p - \\tilde{p}| \\cos \\omega$$\r\n",
        "Substituting we will have:\r\n",
        "$$|p - \\tilde{p}| = d_l(p) = \\frac{n \\cdot (p - \\tilde{p})}{|n| \\cos \\omega} = \\frac{b(i - \\tilde{i}) + a(j - \\tilde{j})}{\\sqrt{a^2 + b^2} \\cos \\omega} = \\frac{aj + bi + c}{\\sqrt{a^2 + b^2} \\cos \\omega}$$\r\n",
        "\r\n",
        "Since $n$ and $(p - \\tilde{p})$ are parallel vectors, then $\\cos \\omega = \\pm 1$.\r\n",
        "This means that $d_l(p)$ represents a **signed distance**, depending on $p$ lying on either of the two sides wrt the line.\r\n",
        "\r\n",
        "The squared distance will be:\r\n",
        "$$d_l^2(p) = \\frac{(aj + bi + c)^2}{a^2 + b^2}$$"
      ]
    },
    {
      "cell_type": "markdown",
      "metadata": {
        "id": "krKjOFVfm4gD"
      },
      "source": [
        "### Line through the barycenter and search for axes\r\n",
        "Let's consider:\r\n",
        "$$p = \\begin{bmatrix} i \\\\ j \\end{bmatrix} \\quad B = \\begin{bmatrix} i_b \\\\ j_b \\end{bmatrix} $$\r\n",
        "\r\n",
        "$$ \\bar{p} = \\begin{bmatrix} \\bar{i} \\\\ \\bar{j} \\end{bmatrix} = \\begin{bmatrix} i - i_b \\\\ j - j_b \\end{bmatrix}$$\r\n",
        "\r\n",
        "$$\\bar{l} = \\begin{bmatrix} - \\sin \\theta \\\\ \\cos \\theta \\end{bmatrix} = \\begin{bmatrix} \\alpha \\\\ \\beta \\end{bmatrix}$$\r\n",
        "\r\n",
        "<center> <img src=https://i.ibb.co/zxKnz9g/photo-2021-01-24-10-01-10.jpg width=\"400px\" /> </center>\r\n",
        "\r\n",
        "Let's consider the generic parametrized line $\\ell$:\r\n",
        "$$\\bar{\\ell} \\colon \\bar{p} = \\lambda \\bar{l} \\quad \\to \\quad \\begin{cases} \\bar{i} = \\lambda \\alpha \\\\ \\bar{j} = \\lambda \\beta \\end{cases} \\quad \\to \\quad \\frac{\\bar{j}}{\\bar{i}} = \\frac{\\beta}{\\alpha} \\quad \\to \\quad \\alpha \\bar{j} - \\beta \\bar{i} = 0$$\r\n",
        "\r\n",
        "Then, the distance between point and line will be:\r\n",
        "$$d_l^2(p) = \\frac{(aj + bi + c)^2}{a^2 + b^2} \\colon \\quad \\begin{cases} a = \\alpha \\\\ b = - \\beta \\\\ c = 0 \\\\ a^2 + b^2 = \\alpha^2 + \\beta^2 = \\sin^2 \\theta + \\cos^2 \\theta = 1 \\end{cases} \\quad \\to \\quad d_l^2(p) = (\\alpha \\bar{j} - \\beta \\bar{i})^2 $$\r\n",
        "\r\n",
        "The moment of inertia wrt the above line, thorugh the barycenter, can be expressed as:\r\n",
        "$$M(\\bar{l}) = \\sum_{p \\in R} d_l^2(p) = \\sum_{p \\in R} (\\alpha \\bar{j} - \\beta \\bar{i})^2 = \\alpha^2 \\sum_{p \\in R}\\bar{j}^2 - 2 \\alpha \\beta \\sum_{p \\in R}\\bar{i} \\bar{j} + \\beta^2 \\sum_{p \\in R}\\bar{i}^2$$\r\n",
        "\r\n",
        "Since:\r\n",
        "* $M^{'}_{0,2} = \\sum_{p \\in R} (j - j_b)^2$;\r\n",
        "* $M^{'}_{1,1} = \\sum_{p \\in R} (i - i_b)(j - j_b)$;\r\n",
        "* $M^{'}_{2,0} = \\sum_{p \\in R} (i - i_b)^2$.\r\n",
        "\r\n",
        "then, we will have:\r\n",
        "$$M(\\bar{l}) = \\alpha^2 M^{'}_{0,2} - 2 \\alpha \\beta M^{'}_{1,1} + \\beta^2 M^{'}_{2,0}$$\r\n",
        "*Note*: $\\alpha$ and $\\beta$ are variable, the moments are constant.\r\n",
        "\r\n",
        "Since:\r\n",
        "$$\\begin{cases} \\alpha = - \\sin \\theta \\\\ \\beta = \\cos \\theta \\end{cases}$$\r\n",
        "then, we'll finally have:\r\n",
        "$$M(\\theta) = \\sin^2 \\theta M^{'}_{0,2} - 2 \\sin \\theta \\cos \\theta  M^{'}_{1,1} + \\cos^2 \\theta M^{'}_{2,0}$$\r\n",
        "\r\n",
        "Therefore, finding the major axis boils down to determining the minimum of $M(\\theta)$. \r\n",
        "A necessary condition to determine the minimum consists in the first derivative being zero:\r\n",
        "$$\\frac{dM(\\theta)}{d \\theta} = 2 \\sin \\theta \\cos \\theta M^{'}_{0,2} + 2 (\\cos^2 \\theta - \\sin^2 \\theta) M^{'}_{1,1} - 2 \\sin \\theta \\cos \\theta M^{'}_{2,0}$$\r\n",
        "$$\\frac{dM(\\theta)}{d \\theta} = \\sin 2 \\theta M^{'}_{0,2} + 2 \\cos 2 \\theta M^{'}_{1,1} - \\sin 2 \\theta M^{'}_{2,0}$$\r\n",
        "$$\\frac{dM(\\theta)}{d \\theta} = \\sin 2 \\theta (M^{'}_{0,2} - M^{'}_{2,0})+ 2 \\cos 2 \\theta M^{'}_{1,1}$$\r\n",
        "\r\n",
        "We impose the null derivative $\\frac{dM(\\theta)}{d \\theta} =  0$ and we'll have:\r\n",
        "$$\\tan 2 \\theta = - \\frac{2 M^{'}_{1,1}}{M^{'}_{0,2} - M^{'}_{2,0}}$$\r\n",
        "\r\n",
        "The positive solution, that provides the major axis (minimum) will be:\r\n",
        "$$2 \\theta = \\arctan \\Biggl( - \\frac{2 M^{'}_{1,1}}{M^{'}_{0,2} - M^{'}_{2,0}} \\Biggr) = - \\arctan \\Biggl(\\frac{2 M^{'}_{1,1}}{M^{'}_{0,2} - M^{'}_{2,0}} \\Biggr) $$\r\n",
        "\r\n",
        "$$\\theta = - \\frac{1}{2} \\arctan \\Biggl(\\frac{2 M^{'}_{1,1}}{M^{'}_{0,2} - M^{'}_{2,0}} \\Biggr)$$\r\n",
        "\r\n",
        "The negative solution, that provides the minor axis (maximum) will be:\r\n",
        "$$2 \\theta = - \\arctan \\Biggl(\\frac{2 M^{'}_{1,1}}{M^{'}_{0,2} - M^{'}_{2,0}} \\Biggr) + \\pi$$\r\n",
        "\r\n",
        "$$\\theta = - \\frac{1}{2} \\arctan \\Biggl(\\frac{2 M^{'}_{1,1}}{M^{'}_{0,2} - M^{'}_{2,0}} \\Biggr) + \\frac{\\pi}{2}$$\r\n",
        "\r\n",
        "Major and minor axes can be expressed into the image reference frame:\r\n",
        "\r\n",
        "<center> <img src=https://i.ibb.co/T15PFq9/photo-2021-01-24-10-48-44.jpg width=\"1000px\" /> </center>\r\n",
        "\r\n",
        "\r\n",
        "\r\n"
      ]
    },
    {
      "cell_type": "markdown",
      "metadata": {
        "id": "5R0il0-hzl7G"
      },
      "source": [
        "## Oriented enclosing rectangle\r\n",
        "Given two axes we might wish to draw a bounding box aligned to the object, referred as **oriented MER** (minimum enclosing rectangle).\r\n",
        "To make it so, the four points laying at the maximum distance on opposite sides of the two axes must be determined:\r\n",
        "<center> <img src=https://i.ibb.co/16H8PYK/photo-2021-01-24-11-41-05.jpg width=\"1400px\" /> </center>\r\n",
        "\r\n",
        "Some features related to the MER are:\r\n",
        "* **Lenght**: extent of the object along the major axis $$L = d_{v_1 v_2} = d_{v_3 v_4} = \\sqrt{(i_{v_1} - i_{v_2})^2 + (j_{v_1} - j_{v_2})^2} = \\sqrt{(i_{v_3} - i_{v_4})^2 + (j_{v_3} - j_{v_4})^2}$$\r\n",
        "* **Width**: extent of the object along the minor axis $$W = d_{v_1 v_3} = d_{v_2 v_4} = \\sqrt{(i_{v_1} - i_{v_3})^2 + (j_{v_1} - j_{v_3})^2} = \\sqrt{(i_{v_2} - i_{v_4})^2 + (j_{v_2} - j_{v_4})^2}$$\r\n",
        "* **Elongatedess**\r\n",
        "$$E = \\frac{L}{W}$$\r\n",
        "* **Rectangularity**\r\n",
        "$$R = \\frac{\\text{object area}}{\\text{oriented MER area}} = \\frac{A}{LW}$$\r\n",
        "* **Ellipticity**\r\n",
        "$$E = \\frac{A}{A_{LW}} \\quad A_{LW} = \\frac{\\pi}{4} LW$$\r\n",
        "\r\n",
        "*Note*: computation of $L$, $W$ and $R$ based on the MER doesn't provide invariance to rotation. \r\n",
        "To get it, the quantities must be computed based an oriented MER."
      ]
    }
  ]
}