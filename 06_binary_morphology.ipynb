{
  "nbformat": 4,
  "nbformat_minor": 0,
  "metadata": {
    "colab": {
      "name": "06_binary_morphology.ipynb",
      "provenance": [],
      "collapsed_sections": [],
      "toc_visible": true
    },
    "kernelspec": {
      "name": "python3",
      "display_name": "Python 3"
    }
  },
  "cells": [
    {
      "cell_type": "markdown",
      "metadata": {
        "id": "T3iLMjEycFuq"
      },
      "source": [
        "# **Binary morphology**\r\n",
        "It's a key process after segmentation, since it improves the results. \r\n",
        "It's based on mathematical morphology\r\n",
        "\r\n",
        "Binary morphology operators are simple and effective tools to improve or analyse binary images (in particular the binarized ones).\r\n",
        "These operators manipulate sets defined over the binary image, that is a subset of the discrete plane itself $I \\subset E^2 = E \\times E$ ($E$ is a set of integers plus the origin).\r\n",
        "\r\n",
        "Given an image $I$, the set of foreground pixels will referred to as $A$, while the set of background pixels will be $A^c$.\r\n",
        "Binary morphology operators manipulate $A$ or $A^c$ through another set $B \\subset E^2$ called **structuring element**:\r\n",
        "\r\n",
        "<center> <img src=https://i.ibb.co/2jK4BJt/photo-2021-01-22-15-24-06.jpg width=\"800px\" /> </center>"
      ]
    },
    {
      "cell_type": "markdown",
      "metadata": {
        "id": "BHbAoM8UfMpM"
      },
      "source": [
        "## Dilation (Minkowsky sum)\r\n",
        "<center> <img src=https://i.ibb.co/6yK2hTT/photo-2021-01-22-15-27-14.jpg width=\"800px\" /> </center>\r\n",
        "\r\n",
        "*Example*\r\n",
        "\r\n",
        "Let:\r\n",
        "* $A = \\bigl\\{ (0,1) ; (1,1) ; (2,1) ; (2,2) ; (3,0) \\bigr\\}$;\r\n",
        "* $B = \\bigl\\{ (0,0) ; (0,1) \\bigr\\}$\r\n",
        "\r\n",
        "Then: $A \\oplus B = \\bigl\\{ (0,1) ; (1,1) ; (2,1) ; (2,2) ; (3,0) ; (0,2) ; (1,2) ; (2,2) ; (2,3) ; (3,1) \\bigr\\}$.\r\n",
        "\r\n",
        "*Note*: assing the origin to each element just return the original set.\r\n",
        "\r\n"
      ]
    },
    {
      "cell_type": "markdown",
      "metadata": {
        "id": "w791x08ni-LH"
      },
      "source": [
        "### Properties\r\n",
        "A translation $A_t$ of the set $A$ is defined as: $A_t = \\{ c \\in E^2 \\colon \\quad c = a + t, \\quad a \\in A \\}$.\r\n",
        "\r\n",
        "Dilation can be so expressed as the union of translations:\r\n",
        "$$A \\oplus B = \\bigcup_{b \\in B} A_b = \\bigcup_{a \\in A} B_a $$\r\n",
        "this can be exploited to speed up the operation (as we saw for convolution).\r\n",
        "\r\n",
        "Moreover:\r\n",
        "* Dilation is commutative: $A \\oplus B = B \\oplus A$;\r\n",
        "* Dilation is associative: $A \\oplus (B \\oplus C) = ( A \\oplus B ) \\oplus C)$;\r\n",
        "* If the structuring element includes the origin ($\\mathcal{O} \\in B$), then dilation is extensive (the initial set is contained in the dilated set).\r\n",
        "\r\n",
        "Typical structuring elements contain the origin and are symmetric by it: that means that dilation expands isotropically foreground areas.\r\n",
        "Such operators can be used to correct segmentation errors i.e. to connect object's part or fill holes:\r\n",
        "\r\n",
        "<center> <img src=https://i.ibb.co/ZTLxFsr/photo-2021-01-22-15-47-34.jpg width=\"800px\" /> </center>\r\n",
        "\r\n",
        "The shape of the structuring element determines the one of the dilated foreground object.\r\n",
        "To figure out the dilated shape it's possible to imagine sliding the structuring element to traverse all contour point of the original object.\r\n",
        "\r\n",
        "*Example*: dilation by a circular structuring element results in the outer contour featuring rounded rather than sharp corners:\r\n",
        "\r\n",
        "<center> <img src=https://i.ibb.co/px2qp0y/photo-2021-01-22-16-06-09.jpg width=\"500px\" /> </center>\r\n",
        "\r\n",
        "*Example*: a dilation by a 3x3 square, following by the subtraction of the original image from dilate one, yields the **outer contours** of foreground region:\r\n",
        "\r\n",
        "<center> <img src=https://i.ibb.co/6sWyc3J/photo-2021-01-22-16-09-48.jpg width=\"500px\" /> </center>\r\n",
        "\r\n"
      ]
    },
    {
      "cell_type": "markdown",
      "metadata": {
        "id": "5HIOA9Fppa1f"
      },
      "source": [
        "## Erosion (Minkowsky subtraction)\r\n",
        "Graphically we can say that erosion mantain any point that can \"contain\" the structuring element.\r\n",
        "\r\n",
        "<center> <img src=https://i.ibb.co/WDyzS3S/photo-2021-01-22-16-12-04.jpg width=\"600px\" /> </center>"
      ]
    },
    {
      "cell_type": "markdown",
      "metadata": {
        "id": "OUcQeoO2qYu8"
      },
      "source": [
        "### Properties\r\n",
        "Erosion can be so expressed as traslations of the structuring element:\r\n",
        "$$A \\ominus B = \\bigl\\{ c \\in E^2 \\colon \\quad B_c \\subseteq A \\bigr\\} $$\r\n",
        "this can be exploited to speed up the operation (as we saw for convolution).\r\n",
        "\r\n",
        "Erosion involves subtraction of the elements of one set from those of the other:\r\n",
        "$$A \\ominus B = \\bigl\\{ c \\in E^2 \\colon \\quad \\forall b \\in B \\quad \\exists a \\in A \\colon \\quad c = a - b \\bigr\\} $$\r\n",
        "\r\n",
        "\r\n",
        "Moreover:\r\n",
        "* Erosion is not commutative: $A \\ominus B \\neq B \\ominus A$;\r\n",
        "* If the structuring element can be decomposed in terms of dilations, then erosion is associative: $A \\ominus (B \\oplus C) = ( A \\ominus B ) \\oplus C)$;\r\n",
        "* If the structuring element includes the origin ($\\mathcal{O} \\in B$), then erosion is anti-extensive (the eroded set is contained in the original one).\r\n",
        "\r\n",
        "Typical structuring elements contain the origin and are symmetric by it: that means that dilation shrinks isotropically foreground areas.\r\n",
        "Such operators can be used to correct segmentation errors i.e. to split  object's part wrongly connected:\r\n",
        "\r\n",
        "<center> <img src=https://i.ibb.co/FzCJSKD/photo-2021-01-22-16-22-03.jpg width=\"800px\" /> </center>\r\n",
        "\r\n",
        "*Example*: an erosion by a 3x3 square, following by the subtraction of the eroded image from original one, yields the **inner contours** (most used) of foreground regions:\r\n",
        "\r\n",
        "<center> <img src=https://i.ibb.co/VwqccT2/photo-2021-01-22-16-28-05.jpg width=\"800px\" /> </center>\r\n",
        "\r\n",
        "Detecting edges in a binary image is simpler than in a gray-scales one."
      ]
    },
    {
      "cell_type": "markdown",
      "metadata": {
        "id": "ikYuVbiJtxK1"
      },
      "source": [
        "## Duality between dilation and erosion\r\n",
        "<center> <img src=https://i.ibb.co/TMVWjgX/photo-2021-01-22-16-30-44.jpg width=\"1000px\" /> </center>"
      ]
    },
    {
      "cell_type": "markdown",
      "metadata": {
        "id": "5ip1_XdruVDj"
      },
      "source": [
        "## Opening and closing\r\n",
        "We have seen that:\r\n",
        "* Erosion grows the foreground;\r\n",
        "* Dilation shrink the foreground;\r\n",
        "\r\n",
        "and viceversa, even though they're not very selective.\r\n",
        "\r\n",
        "Erosion and dilation by the same structuring element can be chained to **remove selectively** (from either background or foreground) the parts that don't match exactly the structuring element, without causing any distortion of the other parts.\r\n",
        "\r\n",
        "* **Opening**: erosion followed by dilation $A \\circ B = (A \\ominus B) \\oplus B$\r\n",
        "<center> <img src=https://i.ibb.co/6BMZ27D/photo-2021-01-22-16-38-14-Copia.jpg width=\"600px\" /> </center>\r\n",
        "\r\n",
        "* **Closing**: dilation followed by erosion $A \\bullet B = (A \\oplus B) \\ominus B$\r\n",
        "<center> <img src=https://i.ibb.co/60R8ghm/photo-2021-01-22-16-38-14.jpg width=\"600px\" /> </center>"
      ]
    },
    {
      "cell_type": "markdown",
      "metadata": {
        "id": "vPss_e3uwVla"
      },
      "source": [
        "### Properties\r\n",
        "* Both closing and opening are idempotent:\r\n",
        "$$(A \\circ B) \\circ B = A \\circ B$$\r\n",
        "$$(A \\bullet B) \\bullet B = A \\bullet B$$\r\n",
        "\r\n",
        "* Both closing and opening are **not** commutative:\r\n",
        "$$A \\circ B \\neq B \\circ A$$\r\n",
        "$$A \\bullet B \\neq B \\bullet A$$\r\n",
        "\r\n",
        "* Closing is extensive, while opening is anti-extensive;\r\n",
        "\r\n",
        "* An opening operation can be expressed as the union of those elementary foreground parts that exactly match the structuring element:\r\n",
        "$$A \\circ B = (A \\ominus B) \\oplus B = \\bigcup_{y \\in A \\ominus B} B_y = \\bigcup_{B_y \\subseteq A} B_y$$\r\n",
        "Opening can be so thought as comparing the structuring element to foreground parts, removing the different ones and leaving unaltered the equal ones."
      ]
    },
    {
      "cell_type": "markdown",
      "metadata": {
        "id": "XtsnBnQsyC40"
      },
      "source": [
        "### A stronger duality\r\n",
        "The duality between erosion and dilation implies duality between opening and closing:\r\n",
        "$$(A \\circ B)^c = {\\bigl[ (A \\ominus B) \\oplus B \\bigr]}^c = (A \\ominus B)^c \\ominus \\breve{B} = (A^c \\oplus \\breve{B}) \\ominus \\breve{B} = A^c \\bullet \\breve{B}$$\r\n",
        "$$(A \\bullet B)^c = {\\bigl[ (A \\oplus B) \\ominus B \\bigr]}^c = (A \\oplus B)^c \\oplus \\breve{B} = (A^c \\ominus \\breve{B}) \\oplus \\breve{B} = A^c \\circ \\breve{B}$$\r\n",
        "If $B$ is symmetric ($B = \\breve{B}$), then it holds: \r\n",
        "$$(A \\circ B)^c = A^c \\bullet B$$\r\n",
        "$$(A \\bullet B)^c = A^c \\circ B$$\r\n",
        "\r\n",
        "Because of duality, closing can be thought as comparing the flipped structuring element to background parts, removing the different ones and leaving unaltered the equal ones."
      ]
    },
    {
      "cell_type": "markdown",
      "metadata": {
        "id": "Z-OnBGJp0bCw"
      },
      "source": [
        "### Examples\r\n",
        "<center> <img src=https://i.ibb.co/qJHsZcX/ex1.jpg width=\"900px\" /> </center>\r\n",
        "\r\n",
        "<center> <img src=https://i.ibb.co/YXgZ1b0/ex2.jpg width=\"900px\" /> </center>"
      ]
    }
  ]
}