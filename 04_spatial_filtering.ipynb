{
  "nbformat": 4,
  "nbformat_minor": 0,
  "metadata": {
    "colab": {
      "name": "04_spatial_filtering.ipynb",
      "provenance": [],
      "collapsed_sections": [],
      "toc_visible": true
    },
    "kernelspec": {
      "name": "python3",
      "display_name": "Python 3"
    }
  },
  "cells": [
    {
      "cell_type": "markdown",
      "metadata": {
        "id": "Zrx7Wd1qbz-L"
      },
      "source": [
        "# **Spatial filtering**\r\n",
        "Spatial filters (or local operators) compute the new intensity of a pixel $p$ based on the intensities of those belonging to a neighbourhood of $P$:\r\n",
        "$$O(p) = F \\bigl( s(p) \\bigr)$$\r\n",
        "\r\n",
        "These operators accomplish a variety of image processing functions, such as *denoising* (main goal of spatial filtering), *sharpening* (edge enhancement), etc..."
      ]
    },
    {
      "cell_type": "markdown",
      "metadata": {
        "id": "nKboHwXDc-zn"
      },
      "source": [
        "## LSI operators\r\n",
        "Linears shift-invariant operators are the equivalent of linear time-invariant operators, but in space rather than in time.\r\n",
        "It's a straighforward extension of the 1d signal theory and consists in a 2d convolution between:\r\n",
        "* Input image;\r\n",
        "* Impulse response function (kernel) of the LSI operator.\r\n",
        "\r\n",
        "Given:\r\n",
        "* An input 2d signal $i(x,y)$;\r\n",
        "* A 2d operator $T \\bigl\\{ \\cdot \\bigr\\} \\colon \\quad o(x,y) = T \\bigl\\{ i(x,y) \\bigr\\}$.\r\n",
        "\r\n",
        "The operator is said to be linear iff:\r\n",
        "$$T \\bigl\\{ \\alpha i_1(x,y) + \\beta i_2(x,y) \\bigr\\} = \\alpha o_1(x,y) + \\beta o_2(x,y)$$\r\n",
        "The operator is said to be shift-invariant iff:\r\n",
        "$$T \\bigl\\{ i(x - x_0 , y - y_0) \\bigr\\} = o(x - x_0 , y - y_0)$$\r\n",
        "\r\n",
        "Let's now assume that $i(x,y) = \\sum_k w_k e_k (x - x_k , y - y_k)$ and pose $h_k(\\cdot) = T \\bigl\\{ e_k(\\cdot) \\bigr\\}$, then:\r\n",
        "$$o(x,y) = T \\Bigl\\{ \\sum_k w_k e_k (x - x_k , y - y_k) \\Bigr\\}$$\r\n",
        "using linearity:\r\n",
        "$$o(x,y) =  \\sum_k w_k T \\bigl\\{ e_k (x - x_k , y - y_k) \\bigr\\}$$\r\n",
        "using shift-invariancy:\r\n",
        "$$o(x,y) =  \\sum_k w_k h_k (x - x_k , y - y_k)$$\r\n",
        "\r\n",
        "This means that if the input is a weighted sum of displace elementary function, the output is given by the same weighted sum of the displaced responses to the elementary functions.\r\n"
      ]
    },
    {
      "cell_type": "markdown",
      "metadata": {
        "id": "9ybY80nXiYXy"
      },
      "source": [
        "## Convolution \r\n",
        "It can be shown that any 2d signal can be express as an infite weighted sum of displaced unit impulses (Dirac delta function, with unitary integral over all domain):\r\n",
        "$$i(x,y) = \\int_{-\\infty}^{+\\infty} \\int_{-\\infty}^{+\\infty} i(\\alpha,\\beta) \\delta (x - \\alpha, y - \\beta) d \\alpha d \\beta$$\r\n",
        "due to linearity and shift-invariance:\r\n",
        "$$o(x,y) = T \\bigl\\{ i(x,y) \\bigr\\} = \\int_{-\\infty}^{+\\infty} \\int_{-\\infty}^{+\\infty} i(\\alpha,\\beta) h (x - \\alpha, y - \\beta) d \\alpha d \\beta$$\r\n",
        "where $h(x,y) = T \\bigl\\{ \\delta (x,y) \\bigr\\}$ is the impulse response (kernel) of the operator $T$.\r\n",
        "\r\n",
        "The above operation between the input signal $i(x,y)$ and the kernel $h(x,y)$ is called **continuous 2-dimensional convolution**.\r\n",
        "\r\n",
        "<center> <img src=https://i.ibb.co/2q4yTx2/photo-2021-01-21-14-14-42.jpg width=\"600px\" /> </center>"
      ]
    },
    {
      "cell_type": "markdown",
      "metadata": {
        "id": "AYX2UFUCFsYm"
      },
      "source": [
        "### Properties of convolution\r\n",
        "We will denote the convolution as:\r\n",
        "$$o(x,y) = i(x,y) * h(x,y)$$\r\n",
        "Some useful properties are:\r\n",
        "* **Associative property** $f * (g * h) = (f * g) * h$;\r\n",
        "* **Commutative property** $f * g = g * f$;\r\n",
        "* **Distributive property wrt the sum** $f * (g + h) = f * g + f * h$;\r\n",
        "* **Commutation with differentiation** $(f * g)' = f' * g = f * g'$.\r\n"
      ]
    },
    {
      "cell_type": "markdown",
      "metadata": {
        "id": "iNcmJtWKJLfc"
      },
      "source": [
        "### A graphical view of convolution\r\n",
        "The kernel is reflected through the origin (due to the minus) and shifted on the point $(x,y)$ and then it behaves as a [mold](https://imperfectfamilies.com/wp-content/uploads/2013/05/16978422_s.jpg), doing a MAD (multiply and add) between the signal and the kernel.\r\n",
        "\r\n",
        "<center> <img src=https://i.ibb.co/9ZWZ0hn/photo-2021-01-21-14-32-25.jpg width=\"800px\" /> </center>"
      ]
    },
    {
      "cell_type": "markdown",
      "metadata": {
        "id": "jiNLy27WK5hw"
      },
      "source": [
        "## Correlation\r\n",
        "The correlation of signal $i(x,y)$ with signal $h(x,y)$ is defined as:\r\n",
        "$$i(x,y) \\circ h(x,y) = \\int_{-\\infty}^{+\\infty} \\int_{-\\infty}^{+\\infty} i(\\alpha,\\beta) h (x + \\alpha, y + \\beta) d \\alpha d \\beta$$\r\n",
        "while, the correlation of signal $h(x,y)$ with signal $i(x,y)$ is defined as:\r\n",
        "$$h(x,y) \\circ i(x,y) = \\int_{-\\infty}^{+\\infty} \\int_{-\\infty}^{+\\infty} h(\\alpha,\\beta) i (x + \\alpha, y + \\beta) d \\alpha d \\beta$$\r\n",
        "\r\n",
        "Hence, correlation isn't commutative:\r\n",
        "$$h(x,y) \\circ i(x,y) = \\int_{-\\infty}^{+\\infty} \\int_{-\\infty}^{+\\infty} h(\\alpha,\\beta) i (x + \\alpha, y + \\beta) d \\alpha d \\beta$$\r\n",
        "substituting $\\xi = x + \\alpha$ and $\\eta = y + \\beta$:\r\n",
        "$$ = \\int_{-\\infty}^{+\\infty} \\int_{-\\infty}^{+\\infty} i(\\xi,\\eta) h(\\xi - x , \\eta - y) d \\xi d \\eta$$\r\n",
        "$$ = \\int_{-\\infty}^{+\\infty} \\int_{-\\infty}^{+\\infty} i(\\alpha,\\beta) h(\\alpha - x , \\beta - y) d \\xi d \\eta$$\r\n",
        "$$ \\neq i(x,y) \\circ h(x,y)$$"
      ]
    },
    {
      "cell_type": "markdown",
      "metadata": {
        "id": "33Gow0wXNpCD"
      },
      "source": [
        "### A graphical view of correlation\r\n",
        "The correlation of $h$ with $i$ is similar to convolution: the product of the two signal is integrated, after displacing $h$, but without reflection (no minus sign in this case).\r\n",
        "\r\n",
        "<center> <img src=https://i.ibb.co/kgXqymv/photo-2021-01-21-14-51-40.jpg width=\"800px\" /> </center>\r\n",
        "\r\n",
        "If $h$ is an even function, such that $h(x,y) = h(-x,-y)$, then convolution between $i$ and $h$ is the same as the correlation between $h$ and $i$:\r\n",
        "$$i(x,y) * h(x,y) = h(x,y) * i(x,y) = \\int_{-\\infty}^{+\\infty} \\int_{-\\infty}^{+\\infty} i(\\alpha,\\beta) h (x - \\alpha, y - \\beta) d \\alpha d \\beta$$\r\n",
        "extracting the minus sign from the shifting we obtain:\r\n",
        "$$= \\int_{-\\infty}^{+\\infty} \\int_{-\\infty}^{+\\infty} i(\\alpha,\\beta) h (\\alpha - x, \\beta - y) d \\alpha d \\beta = h(x , y) \\circ i(x , y)$$\r\n",
        "So:\r\n",
        "$$i*h = h*i = h \\circ i$$\r\n",
        "Nevertheless correlation is **never** commuative, even if $h$ is an even function.\r\n",
        "\r\n",
        "*Note*: in OpenCV is used the correlation with a pre-flipped kernel."
      ]
    },
    {
      "cell_type": "markdown",
      "metadata": {
        "id": "JWn6mJHsQwQp"
      },
      "source": [
        "## Discrete convolution\r\n",
        "The extension to the discrete is straightforward: we consider a discrete 2d LSI operator $T \\{ \\cdot \\}$, whose response to the 2d discrete unit impulse (Kronecker delta function), is denoted as $H(i,j)$:\r\n",
        "$$H(i,j) = T \\bigl\\{ \\delta (i,j) \\bigr\\}$$\r\n",
        "where $\\delta (i,j) = 1$ at $(0,0)$ and $\\delta (i,j) = 0$ elsewhere.\r\n",
        "\r\n",
        "Given a discrete 2d input signal $I(i,j)$, the output signal $O(i,j)$ is given by the discrete 2d convolution between $I(i,j)$ and $H(i,j)$:\r\n",
        "\r\n",
        "<center> <img src=https://i.ibb.co/Rp6wWTm/photo-2021-01-21-15-05-38.jpg width=\"800px\" /> </center>\r\n",
        "\r\n",
        "Analogously to continuous signals, discrete convolution consists in summing the product of the two signal where one has been reflected by the origin and then displaced."
      ]
    },
    {
      "cell_type": "markdown",
      "metadata": {
        "id": "5_lSWDUaTw2K"
      },
      "source": [
        "### Pratical implementation\r\n",
        "In image processing both the input signal (image) and the impulse response (kernel) are stored into matrixes of given size:\r\n",
        "\r\n",
        "<center> <img src=https://i.ibb.co/wMDPQcp/photo-2021-01-21-15-18-51.jpg width=\"500px\" /> </center>\r\n",
        "\r\n",
        "Conceptually, we need to slide the kernel across the whole image to compute the new intensity at each pixel (**sliding window process**), without overwriting the input matrix.\r\n",
        "\r\n",
        "*Note*: in some points is not possible to compute convolution (for example in the borders), because we miss neighbourhood and the lenght of vectors are different.\r\n",
        "Some solutions may are zero-padding, cropping or reflection (as in OpenCV).\r\n",
        "\r\n",
        "<center> <img src=https://i.ibb.co/Zc4w27h/photo-2021-01-21-15-24-08.jpg width=\"600px\" /> </center>"
      ]
    },
    {
      "cell_type": "markdown",
      "metadata": {
        "id": "x-VdesGLWr20"
      },
      "source": [
        "## Mean filter\r\n",
        "Mean filtering is the simplest and fastes way to carry out an image smoothing operation.\r\n",
        "Noise has high-frequency components, so a low-pass filtering is a doable way.\r\n",
        "\r\n",
        "Smoothing is often aimed at image denoising, even if sometimes the purpose is to cancel out small-size unwanted details that might hinder the image analysis task.\r\n",
        "In modern feature-based computer algorithms smoothing is key to create the so called **scale-space**, which endows these approaches with scale invariance.\r\n",
        "\r\n",
        "The mean filter consists just in replacing each pixel intensity by the average intensity over a given neighbourhood.\r\n",
        "It's an LSI operator, as it can be defined through a kernel, for example, a 3d kernel:\r\n",
        "$$ \\begin{bmatrix} \\frac{1}{9} & \\frac{1}{9} & \\frac{1}{9} \\\\ \\frac{1}{9} & \\frac{1}{9} & \\frac{1}{9} \\\\ \\frac{1}{9} & \\frac{1}{9} & \\frac{1}{9} \\end{bmatrix} = \\frac{1}{9} \\begin{bmatrix} 1 & 1 & 1 \\\\ 1 & 1 & 1 \\\\ 1 & 1 & 1 \\end{bmatrix} $$\r\n",
        "\r\n",
        "Mean filtering is inherently fast because multiplications are not needed and can be implemented very efficiently by incremental calculation schemes, called *box-filtering*."
      ]
    },
    {
      "cell_type": "markdown",
      "metadata": {
        "id": "qhYCTmHZZEBl"
      },
      "source": [
        "### Box filtering\r\n",
        "\r\n",
        "<center> <img src=https://i.ibb.co/3Cq4JzT/photo-2021-01-21-15-41-47.jpg width=\"800px\" /> </center>"
      ]
    },
    {
      "cell_type": "markdown",
      "metadata": {
        "id": "xXpNPmyYbEWW"
      },
      "source": [
        "### Example with Gaussian noise\r\n",
        "Gaussian noise is spreaded all over the pixels. \r\n",
        "Mean filtering reduce the noise but blurs the image, especially the edges since they have high variation.\r\n",
        "\r\n",
        "<center> <img src=https://i.ibb.co/jZ5Bm1s/photo-2021-01-21-15-46-48.jpg width=\"800px\" /> </center>"
      ]
    },
    {
      "cell_type": "markdown",
      "metadata": {
        "id": "Vs0ydrXpbcMP"
      },
      "source": [
        "### Example with impulsive noise\r\n",
        "Impulsive noise affects only some random points.\r\n",
        "In this case mean filtering is ineffective, since meaning with an outlier would probably still be an outlier.\r\n",
        "\r\n",
        "<center> <img src=https://i.ibb.co/my3SQfV/photo-2021-01-21-15-47-08.jpg width=\"800px\" /> </center>"
      ]
    },
    {
      "cell_type": "markdown",
      "metadata": {
        "id": "JFfE7hOkcE1l"
      },
      "source": [
        "## Gaussian filter\r\n",
        "It's considered the king of denoising linear filters.\r\n",
        "It's a LSI operator whose impulse response is a 2d Gaussian function (a kernel with zero mean and constant diagonal covariance matrix).\r\n",
        "\r\n",
        "<center> <img src=https://i.ibb.co/m4wrtgP/photo-2021-01-21-15-57-02.jpg width=\"700px\" /> </center>\r\n",
        "\r\n",
        "The kernel behaves as a weight: more importance is given to the points near the center of the kernel, since it's more likely that same pixels come from the same surface.\r\n",
        "\r\n",
        "With higher $\\sigma$ the smoothing is stronger, since as $\\sigma$ increases, the weights of closer points get smaller while those of farther points get larger.\r\n",
        "\r\n",
        "*Note*: a Fourier transform of a Gaussian with $\\sigma$ is another Gaussian with $\\frac{1}{\\sigma}$, so the higher the $\\sigma$, the narrower is the bandwith of the filter.\r\n",
        "\r\n",
        "The Gaussian filter is a more effective low-pass operator wrt the mean filter, since the first is monotonically decreasing, while latter exhibits a significant ripple, that introduces artifacts.\r\n",
        "\r\n",
        "*Example*\r\n",
        "\r\n",
        "As $\\sigma$ gets larger, the smaller details disappear and viceversa.\r\n",
        "So, the choice of $\\sigma$ can be thougt as *setting the scale of interest*. \r\n",
        "\r\n",
        "<center> <img src=https://i.ibb.co/Nydc8Nz/photo-2021-01-21-16-07-11.jpg width=\"700px\" /> </center>"
      ]
    },
    {
      "cell_type": "markdown",
      "metadata": {
        "id": "vA6W_WS_gVCX"
      },
      "source": [
        "### Pratical implementation\r\n",
        "The discrete Gaussian kernel can be obtained by sampling the corresponding continuous function (ideally $\\infty$ samples, in practice $\\propto \\sigma$).\r\n",
        "We can observe that:\r\n",
        "* The larger is the size of the kernel ($2k+1$, with $k$ being the radius of the kernel), the accurate is the approximation;\r\n",
        "* The computational cost grows with the filter size (of course);\r\n",
        "* The Gaussian get smaller and smaller as we move away from the origin (of course).\r\n",
        "\r\n",
        "Therefore, we should use larger sizes for filter with higher $\\sigma$ and smaller size when $\\sigma$ is lower, since $k=f(\\sigma)$.\r\n",
        "\r\n",
        "A rule-of-thumb: since the interval $[-3 \\sigma, +3 \\sigma]$ captures the $99\\%$ of the area (\"energy\") of the Gaussian, a typical rule dictates taking a $(2k+1) \\times (2k+1)$ kernel with $k = \\lceil 3\\sigma \\rceil$.\r\n",
        "\r\n",
        "Moreover, it may be convenient in order to speed-up the computation or mandatory in case of embeddedd platforms without the floating-point unit, to convolve the image by an integer kernel.\r\n",
        "It's sufficient divide all coefficients by the smallest one, rounding to the nearest integer, and the normalize by the sum of the integer coefficients:\r\n",
        "$$k \\quad \\to \\quad k' = \\frac{k}{k_\\min} \\quad \\to \\quad k''=\\text{round}(k') \\quad \\to \\quad k'''= \\frac{k''}{\\text{sum}(k'')}$$"
      ]
    },
    {
      "cell_type": "markdown",
      "metadata": {
        "id": "_x0XxQs-l4PF"
      },
      "source": [
        "### Deploying separability\r\n",
        "To further speed-up the filtering operation, since the 2d Gaussian is separable, it's possible to perform a chain of two 1d convolution (way faster):\r\n",
        "$$I(x,y) * G(x,y) = \\int_{-\\infty}^{+\\infty} \\int_{-\\infty}^{+\\infty} I(\\alpha,\\beta) G (x - \\alpha, y - \\beta) d \\alpha d \\beta$$\r\n",
        "for the separability:\r\n",
        "$$G(x,y) = G(x) G(y)$$\r\n",
        "hence:\r\n",
        "$$I(x,y) * G(x,y) = \\int_{-\\infty}^{+\\infty} \\int_{-\\infty}^{+\\infty} I(\\alpha,\\beta) G (x - \\alpha) G (y - \\beta) d \\alpha d \\beta$$\r\n",
        "\r\n",
        "$$I(x,y) * G(x,y) = \\int_{-\\infty}^{+\\infty} G (y - \\beta) \\Bigl(\\int_{-\\infty}^{+\\infty} I(\\alpha,\\beta) G (y - \\alpha) d \\alpha \\Bigr) d \\beta$$\r\n",
        "and so:\r\n",
        "$$I(x,y) * G(x,y) = \\bigl( I(x,y) * G(x) \\bigr) G(y) = \\bigl( I(x,y) * G(y) \\bigr) G(x)$$\r\n",
        "\r\n",
        "The speed-up can be quantified as:\r\n",
        "$$S = \\frac{\\text{old size}}{\\text{new size}} = \\frac{(2k+1)^2}{2(2k+1)} = k + \\frac{1}{2} = 3 \\sigma + \\frac{1}{2}$$"
      ]
    },
    {
      "cell_type": "markdown",
      "metadata": {
        "id": "V20zM8COcJ_p"
      },
      "source": [
        "## Median filter\r\n",
        "It's a non-linear filter where each pixel intensity is replaced by the median over a given neighbourhood.\r\n",
        "Median filters effectively remove the impulsive noise, since outliers tend to fall at the extremes of the ordered intensities (so they're likely to be discarded), while smoothing simply spreads the outliers.\r\n",
        "\r\n",
        "<center> <img src=https://i.ibb.co/6grL9D6/photo-2021-01-21-20-39-34.jpg width=\"700px\" /> </center>\r\n",
        "\r\n",
        "It's non-linear since $\\text{median}[A(x) + B(x)] \\neq \\text{median}[A(x)] + \\text{median}[B(x)]$.\r\n",
        "\r\n",
        "Moreover, median filtering tends to keep sharper edge than linear filters, so the image is less blurred.\r\n",
        "\r\n",
        "*Example*\r\n",
        "<center> <img src=https://i.ibb.co/zmFd1R4/photo-2021-01-21-20-45-09.jpg width=\"900px\" /> </center>"
      ]
    },
    {
      "cell_type": "markdown",
      "metadata": {
        "id": "kK4ix_zlcMQf"
      },
      "source": [
        "## Bilateral filter\r\n",
        "It's an advanced non-linear filter to accomplish denoising of Gaussian-like noise but without blurring (also called **edge preservering smoothing**):\r\n",
        "$$O(p)= \\sum_{q \\in S} H(p,q) I_q$$\r\n",
        "\r\n",
        "<center> <img src=https://i.ibb.co/6PcRcRB/photo-2021-01-21-20-59-51.jpg width=\"200px\" /> </center>\r\n",
        "\r\n",
        "where:\r\n",
        "$$H(p,q) = \\frac{1}{W(p,q)} \\cdot G_{\\sigma_s}(d_s(p,q)) \\cdot G_{\\sigma_r}(d_r(I_p,I_q))$$\r\n",
        "\r\n",
        "*Note*: $p$ is the (fixed) central point.\r\n",
        "\r\n",
        "In particular:\r\n",
        "* Spatial distance $d_s(p , q) = ||p - q||_2 = \\sqrt{(u_p - u_q)^2 + (v_p - v_q)^2}$;\r\n",
        "* Range or intensity distance $d_r(I_p , I_q) = |I_p - I_q|$;\r\n",
        "* Normalization factor to gain unity $W(p,q) = \\sum_{q \\in S} G_{\\sigma_s}(d_s(p,q)) \\cdot G_{\\sigma_r}(d_r(I_p,I_q))$.\r\n",
        "\r\n",
        "<center> <img src=https://i.ibb.co/HHVKpQD/photo-2021-01-21-21-00-38.jpg width=\"800px\" /> </center>\r\n",
        "\r\n",
        "Given the supporting neighbourhood $S$, neighbouring pixels take a larger weight when they're closer and similar to the central pixel $P$.\r\n",
        "\r\n",
        "For pixels near an edge, the neighbour falling on the other side of the edge look quite different and so can't contribuite to the output, since their weights will be small.\r\n",
        "\r\n",
        "*Example*\r\n",
        "\r\n",
        "<center> <img src=https://i.ibb.co/hswhDLc/photo-2021-01-21-21-08-04.jpg width=\"600px\" /> </center>"
      ]
    },
    {
      "cell_type": "markdown",
      "metadata": {
        "id": "19Rk-ypqcN93"
      },
      "source": [
        "## Non-local means filter\r\n",
        "One of the most recent **edge preserving smoothing filter**.\r\n",
        "The key idea is that there can be similarity among patches spread over the image (not just locally), to help with denoising.\r\n",
        "<center> <img src=https://i.ibb.co/c6MwSH5/photo-2021-01-21-21-46-49.jpg width=\"200px\" /> </center>\r\n",
        "\r\n",
        "Let's consider:\r\n",
        "<center> <img src=https://i.ibb.co/khNwZtL/photo-2021-01-21-21-46-49-Copia.jpg width=\"300px\" /> </center>\r\n",
        "\r\n",
        "$$O(p) = \\sum_{q \\in S} w(p,q) I(q)$$\r\n",
        "where $$w(p,q) = \\frac{1}{Z(p)} \\cdot e^{\\frac{||N_p - N_q||^2_2}{h^2}}$$\r\n",
        "\r\n",
        "with:\r\n",
        "* $h$ being the bandwidth of the filter;\r\n",
        "* $Z(p) = \\sum_{q \\in S} e^{\\frac{||N_p - N_q||^2_2}{h^2}}$ being the normalization factor.\r\n",
        "\r\n",
        "*Example*\r\n",
        "\r\n",
        "<center> <img src=https://i.ibb.co/sb4mJFp/photo-2021-01-21-21-59-07.jpg width=\"800px\" /> </center>"
      ]
    }
  ]
}